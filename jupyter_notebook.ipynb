{
 "cells": [
  {
   "cell_type": "code",
   "execution_count": null,
   "id": "49b8e14b",
   "metadata": {},
   "outputs": [],
   "source": [
    "import os\n",
    "import glob\n",
    "from dotenv import load_dotenv\n",
    "import gradio as gr"
   ]
  },
  {
   "cell_type": "code",
   "execution_count": null,
   "id": "1ad06aa7",
   "metadata": {},
   "outputs": [],
   "source": [
    "from langchain_community.document_loaders import (\n",
    "    UnstructuredPDFLoader,\n",
    "    UnstructuredHTMLLoader,\n",
    "    UnstructuredWordDocumentLoader\n",
    ")\n",
    "from langchain.document_loaders import DirectoryLoader, TextLoader\n",
    "from langchain.text_splitter import CharacterTextSplitter\n",
    "from langchain.schema import Document\n",
    "from langchain_openai import OpenAIEmbeddings, ChatOpenAI\n",
    "from langchain.vectorstores import FAISS\n",
    "from langchain.memory import ConversationBufferMemory\n",
    "from langchain.chains import ConversationalRetrievalChain"
   ]
  },
  {
   "cell_type": "code",
   "execution_count": null,
   "id": "3b4f4f14",
   "metadata": {},
   "outputs": [],
   "source": [
    "import shutil"
   ]
  },
  {
   "cell_type": "code",
   "execution_count": null,
   "id": "6c521b4c",
   "metadata": {},
   "outputs": [],
   "source": [
    "MODEL = \"gpt-4o-mini\"\n",
    "db_name = \"vector_db\""
   ]
  },
  {
   "cell_type": "code",
   "execution_count": null,
   "id": "07ef782d",
   "metadata": {},
   "outputs": [],
   "source": [
    "load_dotenv(override=True)\n",
    "openai_api_key = os.getenv('OPENAI_API_KEY')\n",
    "if openai_api_key:\n",
    "    print(f\"OpenAI API Key exists and begins {openai_api_key[:8]}\")\n",
    "else:\n",
    "    print(\"OpenAI API Key not set\")"
   ]
  },
  {
   "cell_type": "code",
   "execution_count": null,
   "id": "11321203",
   "metadata": {},
   "outputs": [],
   "source": [
    "documents = []\n",
    "\n",
    "file_loaders = {\n",
    "    \".pdf\": UnstructuredPDFLoader,\n",
    "    \".html\": UnstructuredHTMLLoader,\n",
    "    \".htm\": UnstructuredHTMLLoader,\n",
    "    \".docx\": UnstructuredWordDocumentLoader\n",
    "}\n",
    "\n",
    "folder_path = \"knowledge-base\"\n",
    "\n",
    "# Encontra todos os arquivos com extensões suportadas\n",
    "file_paths = glob.glob(f\"{folder_path}/**/*.*\", recursive=True)\n",
    "\n",
    "for file_path in file_paths:\n",
    "    ext = os.path.splitext(file_path)[1].lower()\n",
    "    loader_cls = file_loaders.get(ext)\n",
    "    if loader_cls:\n",
    "        try:\n",
    "            loader = loader_cls(file_path)\n",
    "            docs = loader.load()\n",
    "            for doc in docs:\n",
    "                doc.metadata[\"source\"] = file_path\n",
    "                doc.metadata[\"doc_type\"] = ext\n",
    "                documents.append(doc)\n",
    "        except Exception as e:\n",
    "            print(f\"Erro ao carregar {file_path}: {e}\")"
   ]
  },
  {
   "cell_type": "code",
   "execution_count": null,
   "id": "e58915ee",
   "metadata": {},
   "outputs": [],
   "source": [
    "text_splitter = CharacterTextSplitter(chunk_size=1000, chunk_overlap=200)\n",
    "chunks = text_splitter.split_documents(documents)"
   ]
  },
  {
   "cell_type": "code",
   "execution_count": null,
   "id": "4e0e520f",
   "metadata": {},
   "outputs": [],
   "source": [
    "embeddings = OpenAIEmbeddings()\n",
    "\n",
    "vectorstore = FAISS.from_documents(chunks, embedding=embeddings)\n",
    "\n",
    "#if os.path.exists(db_name):\n",
    "#    Chroma(persist_directory=db_name, embedding_function=embeddings).delete_collection()\n",
    "#vectorstore = Chroma.from_documents(documents=chunks, embedding=embeddings, persist_directory=db_name)"
   ]
  },
  {
   "cell_type": "code",
   "execution_count": null,
   "id": "862d1acd",
   "metadata": {},
   "outputs": [],
   "source": [
    "llm = ChatOpenAI(temperature=0.7, model_name=MODEL)\n",
    "\n",
    "retriever = vectorstore.as_retriever()\n",
    "\n",
    "memory = ConversationBufferMemory(memory_key='chat_history', return_messages=True)\n",
    "\n",
    "conversation_chain = ConversationalRetrievalChain.from_llm(llm=llm, retriever=retriever, memory=memory)"
   ]
  },
  {
   "cell_type": "code",
   "execution_count": null,
   "id": "98abdb1f",
   "metadata": {},
   "outputs": [],
   "source": [
    "def chat(message, history):\n",
    "    result = conversation_chain.invoke({\"question\": message})\n",
    "    return result[\"answer\"]"
   ]
  },
  {
   "cell_type": "code",
   "execution_count": null,
   "id": "3ee3ae95",
   "metadata": {},
   "outputs": [],
   "source": [
    "def process_file(file):\n",
    "    try:\n",
    "        print(f\"file: {file}\")\n",
    "        save_dir = \"./knowledge-base\"\n",
    "        os.makedirs(save_dir, exist_ok=True)\n",
    "        destination = os.path.join(save_dir, file.name)\n",
    "        print(f\"destination: {destination}\")\n",
    "        shutil.copy(file.name, destination)\n",
    "        return f\"File uploaded and saved to: {destination}\"\n",
    "    except Exception as e:\n",
    "        return f\"Error!: {str(e)}\"\n",
    "\n",
    "chat_interface = gr.ChatInterface(chat, \n",
    "                                  type=\"messages\")\n",
    "\n",
    "with gr.Blocks() as explorer_interface:\n",
    "    file_explorer = gr.FileExplorer(root_dir=\"./knowledge-base\")\n",
    "    file_input = gr.File(label=\"Click to Upload\", file_types=[\".txt\", \".pdf\", \".docx\"])\n",
    "    output = gr.Textbox(label=\"Result\")\n",
    "    upload_button = gr.Button(\"Submit File\")\n",
    "    upload_button.click(fn=process_file, inputs=file_input, outputs=output)\n",
    "\n",
    "view = gr.TabbedInterface([chat_interface, explorer_interface], [\"Chat\", \"File Explorer\"])\n",
    "\n",
    "view.launch(inbrowser=True)"
   ]
  }
 ],
 "metadata": {
  "kernelspec": {
   "display_name": "knowbase-rag",
   "language": "python",
   "name": "python3"
  },
  "language_info": {
   "codemirror_mode": {
    "name": "ipython",
    "version": 3
   },
   "file_extension": ".py",
   "mimetype": "text/x-python",
   "name": "python",
   "nbconvert_exporter": "python",
   "pygments_lexer": "ipython3",
   "version": "3.11.13"
  }
 },
 "nbformat": 4,
 "nbformat_minor": 5
}
